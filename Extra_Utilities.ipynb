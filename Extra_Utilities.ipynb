{
 "cells": [
  {
   "cell_type": "code",
   "execution_count": 1,
   "id": "6014a0bf",
   "metadata": {},
   "outputs": [],
   "source": [
    "from sklearn.model_selection import train_test_split\n",
    "import os,gc\n",
    "import cv2\n",
    "import random\n",
    "import numpy as np\n",
    "from PIL import Image, ImageStat\n",
    "from torch.utils.data import Dataset, DataLoader,random_split\n",
    "from torch import randperm,unique\n",
    "from torch._utils import _accumulate\n",
    "import torchvision.transforms.functional as F\n",
    "import xml.etree.ElementTree as ET\n",
    "import matplotlib.pyplot as plt\n",
    "import torch.optim as optim\n",
    "from torch.optim import lr_scheduler\n",
    "import time\n",
    "from skimage import io, transform\n",
    "import sklearn.metrics as skm\n",
    "import torch.nn as nn\n",
    "from torchvision import datasets, transforms, models\n",
    "from torch import manual_seed,zeros_like,zeros,ones,unique,autograd,device,cuda,cat,save,load,tensor,utils,rand\n",
    "from torch import sum as torch_sum\n",
    "manual_seed(17)\n",
    "random.seed(17)"
   ]
  },
  {
   "cell_type": "code",
   "execution_count": 2,
   "id": "9ee0ee87",
   "metadata": {},
   "outputs": [],
   "source": [
    "def mse_loss_fn(y_hat,y):\n",
    "    return ((y - y_hat)**2).sum()/y.shape[0]\n",
    "\n",
    "def tv_loss(img,tv_loss_weight,channels):\n",
    "        return tv_loss_weight * (torch_sum((img[:,channels,:,1:] - img[:,channels,:,:-1])**2) + torch_sum((img[:,channels,1:,:] - img[:,channels,:-1,:])**2))\n",
    "\n",
    "def freezing(parameters,value):\n",
    "  for param in parameters:\n",
    "    param.requires_grad = value\n",
    "    \n",
    "det_mean=[0.485, 0.456, 0.406]\n",
    "det_std=[0.229, 0.224, 0.225]\n",
    "    \n",
    "trans = transforms.ToPILImage()\n",
    "\n",
    "scaler = cuda.amp.GradScaler()"
   ]
  }
 ],
 "metadata": {
  "kernelspec": {
   "display_name": "Python 3 (ipykernel)",
   "language": "python",
   "name": "python3"
  },
  "language_info": {
   "codemirror_mode": {
    "name": "ipython",
    "version": 3
   },
   "file_extension": ".py",
   "mimetype": "text/x-python",
   "name": "python",
   "nbconvert_exporter": "python",
   "pygments_lexer": "ipython3",
   "version": "3.8.10"
  }
 },
 "nbformat": 4,
 "nbformat_minor": 5
}
